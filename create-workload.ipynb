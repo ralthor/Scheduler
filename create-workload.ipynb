{
 "cells": [
  {
   "cell_type": "markdown",
   "metadata": {},
   "source": [
    "# home\n",
    "[show](#show)\n",
    "\n",
    "[show all](#show-all)\n",
    "\n",
    "[barbosa method](#Barbosa)"
   ]
  },
  {
   "cell_type": "markdown",
   "metadata": {},
   "source": [
    "# create workflows"
   ]
  },
  {
   "cell_type": "code",
   "execution_count": 18,
   "metadata": {},
   "outputs": [
    {
     "name": "stdout",
     "output_type": "stream",
     "text": [
      "The autoreload extension is already loaded. To reload it, use:\n",
      "  %reload_ext autoreload\n",
      "  S.CyberShake   | Constraint:   Budget | Nodes:  30 | Size:495.57\n",
      "  S.Epigenomics  | Constraint:   Budget | Nodes:  24 | Size:747.62\n",
      "  S.Epigenomics  | Constraint:   Budget | Nodes:  24 | Size:825.63\n",
      "  S.Inspiral     | Constraint:   Budget | Nodes:  30 | Size:1725.22\n",
      "  S.Epigenomics  | Constraint: Deadline | Nodes:  24 | Size:2087.73\n",
      "  S.Inspiral     | Constraint:   Budget | Nodes:  30 | Size:2156.39\n",
      "  S.CyberShake   | Constraint: Deadline | Nodes:  30 | Size:2300.57\n",
      "  S.CyberShake   | Constraint:   Budget | Nodes:  30 | Size:2436.66\n",
      "  S.CyberShake   | Constraint:   Budget | Nodes:  30 | Size:2604.74\n",
      "  S.Inspiral     | Constraint: Deadline | Nodes:  30 | Size:2619.87\n"
     ]
    }
   ],
   "source": [
    "%load_ext autoreload\n",
    "%autoreload 2\n",
    "\n",
    "import Scheduler.Multi_Workflow\n",
    "from db.definitions import Test\n",
    "import pickle\n",
    "\n",
    "# row = test_name, workload_len, resources, budget_ratio, small, medium, large, bandwidth\n",
    "# each resource: [1, 1, 3] == [power is 1, price is 1, count is 3]\n",
    "row = 'test1', 10, '{\"t\": 0.0833333, \"r\": [[1, 1, 6], [2, 3, 3]]}', 0.5, 1, 0, 0, 1e50\n",
    "\n",
    "test = Test(row)\n",
    "\n",
    "job, constraint, names, sizes = Scheduler.Multi_Workflow.make_workload(test)\n",
    "\n",
    "names = []\n",
    "for j in job:\n",
    "    i = 1\n",
    "    while f'{j.type[:-1]}:{i}' in names:\n",
    "        i += 1\n",
    "    j.name = f'{j.type[:-1]}:{i}'\n",
    "    names.append(f'{j.type[:-1]}:{i}')\n",
    "        \n",
    "[j.name for j in job]\n",
    "cnstr = [c is Constraint.budget for c in constraint]\n",
    "variable = (row, test, job, cnstr, names, sizes)\n",
    "pickle.dump(variable, open('dump.pickle', 'wb'))"
   ]
  },
  {
   "cell_type": "markdown",
   "metadata": {},
   "source": [
    "# run all"
   ]
  },
  {
   "cell_type": "code",
   "execution_count": 13,
   "metadata": {},
   "outputs": [
    {
     "name": "stdout",
     "output_type": "stream",
     "text": [
      "heft cost:252.0 | cost:192.0 | heft ms:75.40 | ms:82.57 | Nodes:  30 |   Budget | factor:  0.80\n",
      "heft cost:300.0 | cost:240.0 | heft ms:151.57 | ms:214.52 | Nodes:  24 |   Budget | factor:  0.80\n",
      "heft cost:312.0 | cost:240.0 | heft ms:167.38 | ms:236.90 | Nodes:  24 |   Budget | factor:  0.80\n",
      "heft cost:612.0 | cost:360.0 | heft ms:251.54 | ms:1543.81 | Nodes:  30 |   Budget | factor:  0.60\n",
      "heft cost:672.0 | cost:444.0 | heft ms:423.23 | ms:657.54 | Nodes:  24 | Deadline | factor:  2.40\n",
      "heft cost:708.0 | cost:552.0 | heft ms:314.41 | ms:440.25 | Nodes:  30 |   Budget | factor:  0.80\n",
      "heft cost:744.0 | cost:504.0 | heft ms:350.05 | ms:791.12 | Nodes:  30 | Deadline | factor:  2.40\n",
      "heft cost:816.0 | cost:648.0 | heft ms:370.76 | ms:553.02 | Nodes:  30 |   Budget | factor:  0.80\n",
      "heft cost:816.0 | cost:648.0 | heft ms:396.33 | ms:623.16 | Nodes:  30 |   Budget | factor:  0.80\n",
      "heft cost:864.0 | cost:576.0 | heft ms:381.98 | ms:1045.46 | Nodes:  30 | Deadline | factor:  2.88\n",
      "\n",
      "+---+----------+--------+--------+--------+---------+--------+--------+------+------+\n",
      "|job|constraint| value  | ms old | ms new |prev cost|new cost|gap-rate|c-rate|m-rate|\n",
      "+---+----------+--------+--------+--------+---------+--------+--------+------+------+\n",
      "|  0|  Budget  | 201.600|  82.575|  82.575|      192|  268.72| 0.01296|0.7502|1.0000|\n",
      "|  1|  Budget  | 240.000| 214.523| 196.429|      240|  232.01| 0.00556|1.0344|1.0921|\n",
      "|  2|  Budget  | 249.600| 236.905| 236.622|      240|  213.64| 0.00593|1.1683|1.0012|\n",
      "|  3|  Budget  | 367.200|1543.808|1197.251|      360|  386.35| 0.01983|0.9504|1.2895|\n",
      "|  4| Deadline |1015.743| 657.539| 914.476|      444|  420.89| 0.00335|1.0549|1.1107|\n",
      "|  5|  Budget  | 566.400| 440.247| 422.905|      552|  547.30| 0.00724|1.0349|1.0410|\n",
      "|  6| Deadline | 840.117| 791.118| 835.195|      504|  489.16| 0.00578|1.0303|1.0059|\n",
      "|  7|  Budget  | 652.800| 553.025| 506.296|      648|  684.69| 0.00234|0.9534|1.0923|\n",
      "|  8|  Budget  | 652.800| 623.161| 623.161|      648|  748.56| 0.00095|0.8721|1.0000|\n",
      "|  9| Deadline |1100.108|1045.456|1084.000|      576|  580.67| 0.00346|0.9920|1.0149|\n",
      "+---+----------+--------+--------+--------+---------+--------+--------+------+------+\n",
      "\n",
      "Overall Cloud Cost:4392.000\n",
      "Separate Runs Cost:4404.000\n",
      "\n",
      "Unfairness: 0.05918\n",
      "\n",
      "Cloud gap-ratio: 0.00385\n"
     ]
    },
    {
     "name": "stderr",
     "output_type": "stream",
     "text": [
      "C:\\Users\\amin\\Anaconda3\\envs\\micasense\\lib\\site-packages\\ipykernel_launcher.py:12: MatplotlibDeprecationWarning: The set_color_cycle function was deprecated in version 1.5. Use `.set_prop_cycle` instead.\n",
      "  if sys.path[0] == '':\n"
     ]
    },
    {
     "data": {
      "image/png": "[encoded data removed]",
      "text/plain": [
       "<Figure size 720x720 with 1 Axes>"
      ]
     },
     "metadata": {
      "needs_background": "light"
     },
     "output_type": "display_data"
    }
   ],
   "source": [
    "import Scheduler.Multi_Workflow\n",
    "from db.definitions import Test\n",
    "import pickle\n",
    "\n",
    "row, test, job, constraint, names, sizes = read_jobs()\n",
    "test.time_slot = 1\n",
    "for r in test.resource_array:\n",
    "    r[1] *= 12\n",
    "bandwidth, workload_len, timeslot_list, powers, prices, numbers, power_list, price_list, timeslot_list, resource_spec, main_resources = create_resources()\n",
    "makespan_list, cost_list, resources_set, graph_set, constraint_values = calculate_reference_plans()\n",
    "jobs, cloud_resources = create_multi_workflow_resouces()\n",
    "fair_policy()\n",
    "show_results()\n",
    "show_schedule(cloud_resources)"
   ]
  },
  {
   "cell_type": "markdown",
   "metadata": {},
   "source": [
    "# Read Jobs"
   ]
  },
  {
   "cell_type": "code",
   "execution_count": 6,
   "metadata": {},
   "outputs": [],
   "source": [
    "%load_ext autoreload\n",
    "%autoreload 2\n",
    "import pickle\n",
    "\n",
    "def read_jobs():\n",
    "    row, test, job, cnstr, names, sizes = pickle.load(open('dump.pickle', 'rb'))\n",
    "    constraint = [Constraint.budget if b else Constraint.deadline for b in cnstr]\n",
    "    return row, test, job, constraint, names, sizes"
   ]
  },
  {
   "cell_type": "markdown",
   "metadata": {},
   "source": [
    "# create resources"
   ]
  },
  {
   "cell_type": "code",
   "execution_count": 5,
   "metadata": {},
   "outputs": [],
   "source": [
    "import Definitions\n",
    "\n",
    "def create_resources():\n",
    "    bandwidth = test.bandwidth\n",
    "    workload_len = test.workload_len\n",
    "    timeslot_list = []\n",
    "    powers = []\n",
    "    prices = []\n",
    "    numbers = []\n",
    "    for r in test.resource_array:\n",
    "        powers.append(r[0])\n",
    "        prices.append(r[1])\n",
    "        numbers.append(r[2])\n",
    "\n",
    "    power_list, price_list, timeslot_list = [], [], []\n",
    "    for i in range(len(test.resource_array)):\n",
    "        power_list += [powers[i]] * numbers[i]\n",
    "        price_list += [prices[i]] * numbers[i]\n",
    "        timeslot_list += [60 * test.time_slot] * numbers[i]\n",
    "\n",
    "    resource_spec = (power_list, price_list, timeslot_list)\n",
    "\n",
    "    main_resources = Definitions.Resources.CostAwareResources(resource_spec[0], resource_spec[1], resource_spec[2],bandwidth)\n",
    "    \n",
    "    return bandwidth, workload_len, timeslot_list, powers, prices, numbers, power_list, price_list, timeslot_list, resource_spec, main_resources\n"
   ]
  },
  {
   "cell_type": "markdown",
   "metadata": {},
   "source": [
    "# Calculate the reference plans"
   ]
  },
  {
   "cell_type": "code",
   "execution_count": 4,
   "metadata": {
    "scrolled": true
   },
   "outputs": [],
   "source": [
    "from Definitions.MultiWorkflow.JobList import Constraint\n",
    "import Scheduler.ICPCP\n",
    "import Scheduler.HEFT\n",
    "import Scheduler.BHEFT\n",
    "import Definitions.Resources\n",
    "import Scheduler.BudgetPessimistic\n",
    "import Scheduler.DeadlineOptimisticAlpha\n",
    "import copy\n",
    "import Scheduler.Multi_Workflow\n",
    "\n",
    "def calculate_reference_plans():\n",
    "    makespan_list = []\n",
    "    cost_list = []\n",
    "    resources_set = []\n",
    "    graph_set = []\n",
    "    constraint_values = []\n",
    "\n",
    "    for i in range(workload_len):\n",
    "        resources = copy.deepcopy(main_resources)\n",
    "        g = copy.deepcopy(job[i])\n",
    "        Scheduler.HEFT.schedule(g, resources)\n",
    "        g_heft = g\n",
    "        cost = resources.plan_cost\n",
    "        makespan = resources.makespan\n",
    "\n",
    "        heft_resources = resources\n",
    "\n",
    "        if constraint[i] is Constraint.budget:\n",
    "            c = 'Budget'\n",
    "            budget_factor = 0.2\n",
    "            while True:\n",
    "                resources = copy.deepcopy(main_resources)\n",
    "                g = copy.deepcopy(job[i])\n",
    "                Scheduler.BHEFT.schedule(g, resources, cost * budget_factor)\n",
    "                if cost * budget_factor >= resources.plan_cost:\n",
    "                    break\n",
    "                budget_factor += 0.2\n",
    "            # if budget_factor >= 1:\n",
    "            #     resources = heft_resources\n",
    "            #     g = g_heft\n",
    "            #     constraint_factor = 1\n",
    "            # else:\n",
    "\n",
    "            constraint_factor = budget_factor\n",
    "            constraint_value = cost * budget_factor\n",
    "        else:\n",
    "            c = 'Deadline'\n",
    "            deadline_factor = 1.2\n",
    "\n",
    "            if sizes[i] == 'XXL':\n",
    "                if names[i] == 'Montage':\n",
    "                    deadline_factor = 27\n",
    "                elif names[i] == 'Sipht':\n",
    "                    deadline_factor = 13\n",
    "                elif names[i] == 'Inspiral':\n",
    "                    deadline_factor = 4\n",
    "\n",
    "            resources = heft_resources\n",
    "            first_computation = True\n",
    "            while True:\n",
    "                resources = copy.deepcopy(main_resources)\n",
    "                g = copy.deepcopy(job[i])\n",
    "                Scheduler.ICPCP.schedule(g, resources, makespan * deadline_factor)\n",
    "                if makespan * deadline_factor >= resources.makespan:\n",
    "                    # if resources.plan_cost >= cost:\n",
    "                    #     resources = heft_resources\n",
    "                    #     deadline_factor = 1\n",
    "                    if not first_computation:\n",
    "                        break\n",
    "                    else:\n",
    "                        deadline_factor *= 2\n",
    "                        first_computation = False\n",
    "                        continue\n",
    "                deadline_factor *= 1.2\n",
    "            constraint_factor = deadline_factor\n",
    "            constraint_value = makespan * deadline_factor\n",
    "        print(\"heft cost:{0:5.1f} | cost:{1:5.1f} | heft ms:{2:5.2f} | ms:{3:5.2f} \"\n",
    "              \"| Nodes:{4:4d} | {5:>8} | factor: {6:5.2f}\".format(cost, resources.plan_cost, makespan,\n",
    "                                                                  resources.makespan, len(g.tasks) - 2, c,\n",
    "                                                                  constraint_factor))\n",
    "\n",
    "        # ---Store results for next use:\n",
    "        makespan_list.append(resources.makespan)\n",
    "        cost_list.append(resources.plan_cost)\n",
    "        resources_set.append(copy.deepcopy(resources))\n",
    "        graph_set.append(g)\n",
    "        constraint_values.append(constraint_value)\n",
    "    return makespan_list, cost_list, resources_set, graph_set, constraint_values\n"
   ]
  },
  {
   "cell_type": "code",
   "execution_count": 95,
   "metadata": {},
   "outputs": [
    {
     "name": "stdout",
     "output_type": "stream",
     "text": [
      "160.7404347144708\t163.0\t163.20000000000002\n",
      "298.8530383001559\t162.0\t334.9161109529958\n",
      "345.0105729965915\t268.0\t268.0\n",
      "847.9136712271169\t413.0\t861.380056222824\n",
      "321.33350927715503\t570.0\t570.0\n",
      "734.8468321057862\t429.0\t781.5553308982306\n",
      "1510.752693480146\t465.0\t471.20000000000005\n",
      "932.7839674608134\t453.0\t948.1044638995958\n",
      "1605.1801913719603\t495.0\t499.20000000000005\n",
      "752.5589366680467\t480.0\t1162.5224978265335\n"
     ]
    }
   ],
   "source": [
    "for m, c, cc in zip(makespan_list, cost_list, constraint_values):\n",
    "    print(m, c, cc, sep='\\t')"
   ]
  },
  {
   "cell_type": "markdown",
   "metadata": {},
   "source": [
    "# show\n",
    "[home](#home)\n",
    "\n",
    "[show all](#show-all)"
   ]
  },
  {
   "cell_type": "code",
   "execution_count": 3,
   "metadata": {},
   "outputs": [],
   "source": [
    "from matplotlib import pyplot as plt\n",
    "import numpy as np\n",
    "import random\n",
    "\n",
    "def show_schedule(resources, save_number=None):\n",
    "    sched = resources.show_schedule()\n",
    "\n",
    "    num_plots = sum([len(item[0]) for item in sched])\n",
    "    figure_number = random.randint(1, 10000)\n",
    "    fig = plt.figure(figure_number, figsize=[10,10])\n",
    "    colormap = plt.cm.gist_ncar\n",
    "    plt.gca().set_color_cycle([colormap(i) for i in np.linspace(0, 0.9, num_plots)])\n",
    "    colors = plt.rcParams[\"axes.prop_cycle\"].by_key()[\"color\"]\n",
    "    my_label = []\n",
    "    for i, entry in enumerate(sched):\n",
    "        name = entry[0]\n",
    "        est = entry[1]\n",
    "        eft = entry[2]\n",
    "        for j in range(len(est)):\n",
    "    #         print(i, est[j], eft[j])\n",
    "            graph_name = name[j].split('-')[0]\n",
    "            first_visit = False\n",
    "            if not graph_name in my_label:\n",
    "                my_label.append(graph_name)\n",
    "                first_visit = True\n",
    "#                 print(f'first visit for {graph_name}')\n",
    "            my_color = my_label.index(graph_name)\n",
    "            if first_visit:\n",
    "                plt.plot([est[j], eft[j]], [i/5, i/5], linewidth=2, label=graph_name, \n",
    "                         color=colors[my_color])\n",
    "            else:\n",
    "                plt.plot([est[j], eft[j]], [i/5, i/5], linewidth=2, \n",
    "                         color=colors[my_color])\n",
    "#             plt.text((est[j] + eft[j]) / 2, i/5 , name[j])\n",
    "#     print('graph labels: ', my_label)\n",
    "#     ax = fig.gca()                            # get the current axis\n",
    "#     for i, p in enumerate(ax.get_lines()):    # this is the loop to change Labels and colors\n",
    "#         if p.get_label() in names[:i]:    # check for Name already exists\n",
    "#             idx = names.index(p.get_label())       # find ist index\n",
    "#             p.set_c(ax.get_lines()[idx].get_c())   # set color\n",
    "#             p.set_label('_' + p.get_label())       # hide label in auto-legend\n",
    "    plt.legend(loc='center')\n",
    "\n",
    "    plt.legend()\n",
    "    plt.title(f'total cost: {resources.plan_cost}')\n",
    "    if not save_number is None:\n",
    "        plt.savefig(f'images/{save_number}', bbox_inches='tight')\n",
    "        plt.close(figure_number)\n",
    "    else:\n",
    "        plt.show()"
   ]
  },
  {
   "cell_type": "code",
   "execution_count": 8,
   "metadata": {},
   "outputs": [],
   "source": [
    "!rm -r images\n",
    "!mkdir images\n",
    "!ls images"
   ]
  },
  {
   "cell_type": "markdown",
   "metadata": {},
   "source": [
    "# Create the multi-workflow resources"
   ]
  },
  {
   "cell_type": "code",
   "execution_count": 2,
   "metadata": {},
   "outputs": [],
   "source": [
    "from Definitions.MultiWorkflow.JobList import Constraint, JobItem\n",
    "\n",
    "def create_multi_workflow_resouces():\n",
    "    timeslot = test.time_slot\n",
    "    bandwidth = test.bandwidth\n",
    "    #    workload_len = test.workload_len\n",
    "    powers = []\n",
    "    prices = []\n",
    "    numbers = []\n",
    "    for r in test.resource_array:\n",
    "        powers.append(r[0])\n",
    "        prices.append(r[1])\n",
    "        numbers.append(r[2])\n",
    "\n",
    "    workload_len = test.workload_len\n",
    "\n",
    "    # ----------------------- End of loading needed things.\n",
    "\n",
    "    # Preparing the resources in the cloud:\n",
    "\n",
    "    def type_of_resource(r_id):\n",
    "        limit = 0\n",
    "        for p in range(len(numbers)):\n",
    "            limit += numbers[p]\n",
    "            if r_id < limit:\n",
    "                return p\n",
    "        else:\n",
    "            return -1\n",
    "\n",
    "    n = [0] * len(numbers)\n",
    "    for i in range(workload_len):\n",
    "        resources = resources_set[i]\n",
    "        for r in range(0, resources.len):\n",
    "            if resources.resource_cost(r) != 0:\n",
    "                n[type_of_resource(r)] += 1\n",
    "\n",
    "    # TODO: decreasing resources, to force efficient use of resources!\n",
    "    c_resource = 0.8 # 0.4..1.2\n",
    "    for i in range(len(n)):\n",
    "        n[i] = int(n[i] * c_resource)\n",
    "\n",
    "    power_list, price_list, timeslot_list = [], [], []\n",
    "    for i in range(len(test.resource_array)):\n",
    "        power_list += [powers[i]] * n[i]\n",
    "        price_list += [prices[i]] * n[i]\n",
    "        # TODO: Tests must be changed, but it works for now (in case of change: both planner and main):\n",
    "        timeslot_list += [60 * timeslot] * n[i]\n",
    "\n",
    "    resource_spec = (power_list, price_list, timeslot_list)\n",
    "\n",
    "    # resource_spec = ([power1] * n[0] + [power2] * n[1] + [power3] * n[2],\n",
    "    #                  [price1] * n[0] + [price2] * n[1] + [price3] * n[2],\n",
    "    #                  [timeslot] * (n[0] + n[1] + n[2]))\n",
    "\n",
    "    cloud_resources = Definitions.Resources.CostAwareResources(resource_spec[0], resource_spec[1], resource_spec[2],\n",
    "                                                               bandwidth)\n",
    "\n",
    "    # -------- Making a multi-workflow list, which contains all workflows (they will schedule together)\n",
    "    jobs = []\n",
    "    for i in range(workload_len):\n",
    "        if constraint[i] is Constraint.deadline:\n",
    "            graph_set[i].makespan = makespan_list[i]  # resources_set[i].makespan\n",
    "        else:\n",
    "            graph_set[i].cost = cost_list[i]  # resources_set[i].plan_cost\n",
    "            graph_set[i].makespan = makespan_list[i]  # resources_set[i].makespan\n",
    "\n",
    "        prev_resources = resources_set[i]\n",
    "\n",
    "        job_item = JobItem(copy.deepcopy(job[i]), constraint[i],\n",
    "                           constraint_values[i], cloud_resources, graph_set[i], prev_resources)\n",
    "        jobs.append(job_item)\n",
    "\n",
    "    # prev_cloud_cost = 0\n",
    "    # previously_scheduled_graph = -1\n",
    "\n",
    "    current_critical = [0] * workload_len\n",
    "\n",
    "    # gap-rate calculation:\n",
    "    gap_rate = [0] * workload_len\n",
    "    s = gap_rate[:]\n",
    "    sum_task_number = sum(map(lambda graph: len(graph.tasks), graph_set))\n",
    "    for i in range(workload_len):\n",
    "        gap_rate[i] = resources_set[i].gap_rate\n",
    "        s[i] = len(graph_set[i].tasks) / (gap_rate[i] * sum_task_number)\n",
    "    iterator = min(s)\n",
    "    ref_s = s[:]\n",
    "    return jobs, cloud_resources"
   ]
  },
  {
   "cell_type": "markdown",
   "metadata": {},
   "source": [
    "# Scheduling"
   ]
  },
  {
   "cell_type": "code",
   "execution_count": 12,
   "metadata": {},
   "outputs": [],
   "source": [
    "def fair_policy(show_online_schedule=False):\n",
    "    try:\n",
    "        # scheduling dummy tasks (get rid of them!):\n",
    "        for i in range(workload_len):\n",
    "            jobs[i].scheduler.schedule_next(do_head_nodes=True)\n",
    "            cloud_resources.costs = cloud_resources.price_of_each_graph()\n",
    "            # current_critical[i] = jobs[i].critical_now\n",
    "\n",
    "        figure_number = 1\n",
    "        ready_list = list(range(workload_len))\n",
    "        # MAIN WHILE of Scheduler:\n",
    "        while ready_list:\n",
    "            cloud_resources.costs = cloud_resources.price_of_each_graph()\n",
    "            for i in range(len(jobs)):\n",
    "                job = jobs[i]\n",
    "                consumed_cost = cloud_resources.costs[job.g.name]\n",
    "                job.scheduler.remaining_budget = job.scheduler.total_budget - consumed_cost\n",
    "                job.scheduler.recalculate_sub_budget()\n",
    "\n",
    "            most_critical = -1\n",
    "            criticality = 100\n",
    "            ready_list_index = -1\n",
    "            for index, ii in enumerate(ready_list):\n",
    "                job = jobs[ii]\n",
    "                current_critical = job.critical_now\n",
    "                if current_critical < criticality:\n",
    "                    criticality = current_critical\n",
    "                    most_critical = ii\n",
    "                    ready_list_index = index\n",
    "\n",
    "            if show_online_schedule:\n",
    "                show_schedule(cloud_resources, figure_number)\n",
    "            figure_number += 1\n",
    "            job_index = most_critical  # ready_list[most_critical]\n",
    "            job = jobs[job_index]\n",
    "#             print([round(j.critical_now, 2) for j in jobs if j.critical_now < 1000000000.0],\n",
    "#                   f' - most critical: {jobs[most_critical].critical_now:.2f}, selected: {job.critical_now:.2f}')\n",
    "            del ready_list[ready_list_index]\n",
    "\n",
    "            job.scheduler.schedule_next(do_head_nodes=True)\n",
    "\n",
    "            if job.scheduler.finished:\n",
    "                continue\n",
    "            else:\n",
    "                ready_list.append(job_index)\n",
    "        return\n",
    "    except Exception as e:\n",
    "        exc_type, exc_obj, exc_tb = sys.exc_info()\n",
    "        fname = os.path.split(exc_tb.tb_frame.f_code.co_filename)[1]\n",
    "        print(exc_type, fname, exc_tb.tb_lineno)\n",
    "        raise e"
   ]
  },
  {
   "cell_type": "markdown",
   "metadata": {},
   "source": [
    "# Barbosa"
   ]
  },
  {
   "cell_type": "code",
   "execution_count": 14,
   "metadata": {
    "scrolled": false
   },
   "outputs": [
    {
     "name": "stdout",
     "output_type": "stream",
     "text": [
      "heft cost:252.0 | cost:192.0 | heft ms:75.40 | ms:82.57 | Nodes:  30 |   Budget | factor:  0.80\n",
      "heft cost:300.0 | cost:240.0 | heft ms:151.57 | ms:214.52 | Nodes:  24 |   Budget | factor:  0.80\n",
      "heft cost:312.0 | cost:240.0 | heft ms:167.38 | ms:236.90 | Nodes:  24 |   Budget | factor:  0.80\n",
      "heft cost:612.0 | cost:360.0 | heft ms:251.54 | ms:1543.81 | Nodes:  30 |   Budget | factor:  0.60\n",
      "heft cost:672.0 | cost:444.0 | heft ms:423.23 | ms:657.54 | Nodes:  24 | Deadline | factor:  2.40\n",
      "heft cost:708.0 | cost:552.0 | heft ms:314.41 | ms:440.25 | Nodes:  30 |   Budget | factor:  0.80\n",
      "heft cost:744.0 | cost:504.0 | heft ms:350.05 | ms:791.12 | Nodes:  30 | Deadline | factor:  2.40\n",
      "heft cost:816.0 | cost:648.0 | heft ms:370.76 | ms:553.02 | Nodes:  30 |   Budget | factor:  0.80\n",
      "heft cost:816.0 | cost:648.0 | heft ms:396.33 | ms:623.16 | Nodes:  30 |   Budget | factor:  0.80\n",
      "heft cost:864.0 | cost:576.0 | heft ms:381.98 | ms:1045.46 | Nodes:  30 | Deadline | factor:  2.88\n",
      "\n",
      "+---+----------+--------+--------+--------+---------+--------+--------+------+------+\n",
      "|job|constraint| value  | ms old | ms new |prev cost|new cost|gap-rate|c-rate|m-rate|\n",
      "+---+----------+--------+--------+--------+---------+--------+--------+------+------+\n",
      "|  0|  Budget  | 201.600|  82.575|  82.575|      192|  230.56| 0.01296|0.8744|1.0000|\n",
      "|  1|  Budget  | 240.000| 214.523| 213.806|      240|  226.81| 0.00556|1.0582|1.0034|\n",
      "|  2|  Budget  | 249.600| 236.905| 236.695|      240|  233.98| 0.00593|1.0668|1.0009|\n",
      "|  3|  Budget  | 367.200|1543.808|1244.046|      360|  422.44| 0.01983|0.8692|1.2410|\n",
      "|  4| Deadline |1015.743| 657.539|1004.518|      444|  452.90| 0.00335|0.9803|1.0112|\n",
      "|  5|  Budget  | 566.400| 440.247| 389.491|      552|  530.22| 0.00724|1.0682|1.1303|\n",
      "|  6| Deadline | 840.117| 791.118| 835.676|      504|  475.40| 0.00578|1.0602|1.0053|\n",
      "|  7|  Budget  | 652.800| 553.025| 506.974|      648|  735.04| 0.00234|0.8881|1.0908|\n",
      "|  8|  Budget  | 652.800| 623.161| 623.161|      648|  777.29| 0.00095|0.8398|1.0000|\n",
      "|  9| Deadline |1100.108|1045.456|1099.432|      576|  571.36| 0.00346|1.0081|1.0006|\n",
      "+---+----------+--------+--------+--------+---------+--------+--------+------+------+\n",
      "\n",
      "Overall Cloud Cost:4464.000\n",
      "Separate Runs Cost:4404.000\n",
      "\n",
      "Unfairness: 0.06326\n",
      "\n",
      "Cloud gap-ratio: 0.00346\n"
     ]
    },
    {
     "name": "stderr",
     "output_type": "stream",
     "text": [
      "C:\\Users\\amin\\Anaconda3\\envs\\micasense\\lib\\site-packages\\ipykernel_launcher.py:12: MatplotlibDeprecationWarning: The set_color_cycle function was deprecated in version 1.5. Use `.set_prop_cycle` instead.\n",
      "  if sys.path[0] == '':\n"
     ]
    },
    {
     "data": {
      "image/png": "[encoded data removed]",
      "text/plain": [
       "<Figure size 720x720 with 1 Axes>"
      ]
     },
     "metadata": {
      "needs_background": "light"
     },
     "output_type": "display_data"
    }
   ],
   "source": [
    "import Scheduler.Multi_Workflow\n",
    "from db.definitions import Test\n",
    "import pickle\n",
    "\n",
    "row, test, job, constraint, names, sizes = read_jobs()\n",
    "test.time_slot = 1\n",
    "for r in test.resource_array:\n",
    "    r[1] *= 12\n",
    "bandwidth, workload_len, timeslot_list, \\\n",
    "powers, prices, numbers, power_list, price_list, \\\n",
    "timeslot_list, resource_spec, main_resources = create_resources()\n",
    "\n",
    "makespan_list, cost_list, resources_set, graph_set, constraint_values = calculate_reference_plans()\n",
    "jobs, cloud_resources = create_multi_workflow_resouces()\n",
    "barbosa()\n",
    "show_results()\n",
    "show_schedule(cloud_resources)"
   ]
  },
  {
   "cell_type": "code",
   "execution_count": 7,
   "metadata": {},
   "outputs": [],
   "source": [
    "from IPython.core.debugger import set_trace\n",
    "\n",
    "def barbosa(): # unfinished!\n",
    "    try:\n",
    "        k = 1\n",
    "        # scheduling dummy tasks (get rid of them!):\n",
    "        for i in range(workload_len):\n",
    "            jobs[i].scheduler.schedule_next(do_head_nodes=True)\n",
    "            cloud_resources.costs = cloud_resources.price_of_each_graph()\n",
    "            # current_critical[i] = jobs[i].critical_now\n",
    "\n",
    "        ready_list = list(range(workload_len))\n",
    "        # MAIN WHILE of Scheduler:\n",
    "        while ready_list:\n",
    "            cloud_resources.costs = cloud_resources.price_of_each_graph()\n",
    "            for i in range(len(jobs)):\n",
    "                job = jobs[i]\n",
    "                consumed_cost = cloud_resources.costs[job.g.name]\n",
    "                job.scheduler.remaining_budget = job.scheduler.total_budget - consumed_cost\n",
    "                job.scheduler.recalculate_sub_budget()\n",
    "\n",
    "            k += 1\n",
    "            \n",
    "            most_critical = -1\n",
    "            criticality = 100\n",
    "            ready_list_index = -1\n",
    "            for index, ii in enumerate(ready_list):\n",
    "                job = jobs[ii]\n",
    "\n",
    "                SDi = job.scheduler.g.tasks[job.scheduler.last_unscheduled_task_id].sub_deadline\n",
    "                if hasattr(job.reference_graph, 'deadline'):\n",
    "                    Dj = job.reference_graph.deadline\n",
    "                else:\n",
    "                    Dj = job.reference_graph.makespan\n",
    "                TimeR = (Dj - SDi) / Dj\n",
    "\n",
    "                number_of_tasks = len(job.scheduler.priority_list)\n",
    "                PRTj = (number_of_tasks - job.scheduler.last_unscheduled_task_id) / number_of_tasks\n",
    "                \n",
    "#                 if k >= 200:\n",
    "#                     set_trace()\n",
    "\n",
    "                current_critical = TimeR * PRTj\n",
    "                if most_critical == -1 or current_critical < criticality:\n",
    "                    criticality = current_critical\n",
    "                    most_critical = ii\n",
    "                    ready_list_index = index\n",
    "\n",
    "            job_index = most_critical  # ready_list[most_critical]\n",
    "            job = jobs[job_index]\n",
    "            del ready_list[ready_list_index]\n",
    "\n",
    "            job.scheduler.schedule_next(do_head_nodes=True)\n",
    "\n",
    "            if job.scheduler.finished:\n",
    "                continue\n",
    "            else:\n",
    "                ready_list.append(job_index)\n",
    "        return\n",
    "    except Exception as e:\n",
    "        exc_type, exc_obj, exc_tb = sys.exc_info()\n",
    "        fname = os.path.split(exc_tb.tb_frame.f_code.co_filename)[1]\n",
    "        print(exc_type, fname, exc_tb.tb_lineno)\n",
    "        raise e"
   ]
  },
  {
   "cell_type": "markdown",
   "metadata": {},
   "source": [
    "# Call scheduling"
   ]
  },
  {
   "cell_type": "code",
   "execution_count": 100,
   "metadata": {
    "scrolled": true
   },
   "outputs": [],
   "source": [
    "fair_policy()"
   ]
  },
  {
   "cell_type": "markdown",
   "metadata": {},
   "source": [
    "# Create scheduling movie!"
   ]
  },
  {
   "cell_type": "code",
   "execution_count": 31,
   "metadata": {},
   "outputs": [],
   "source": [
    "import os\n",
    "import imageio\n",
    "folder = '1 img/images-old-cost-method'\n",
    "filenames = [f'{folder}/{filename}.png' for filename in range(1, 1 + len(os.listdir(folder)))]\n",
    "images = []\n",
    "for filename in filenames:\n",
    "    images.append(imageio.imread(filename))\n",
    "imageio.mimsave('movie2.gif', images)"
   ]
  },
  {
   "cell_type": "markdown",
   "metadata": {},
   "source": [
    "# Show results"
   ]
  },
  {
   "cell_type": "code",
   "execution_count": 101,
   "metadata": {},
   "outputs": [
    {
     "data": {
      "text/plain": [
       "{'Montage:1': 169.79523726283736,\n",
       " 'Inspiral:1': 167.1420195968036,\n",
       " 'CyberShake:1': 286.7265742074594,\n",
       " 'Montage:2': 418.39859611639474,\n",
       " 'CyberShake:2': 578.027554087064,\n",
       " 'CyberShake:3': 441.8834135662651,\n",
       " 'Epigenomics:1': 489.88470380306796,\n",
       " 'Montage:3': 463.7415628648638,\n",
       " 'Epigenomics:2': 549.7913710456814,\n",
       " 'Epigenomics:3': 484.6089674495605}"
      ]
     },
     "execution_count": 101,
     "metadata": {},
     "output_type": "execute_result"
    }
   ],
   "source": [
    "list(zip(cloud_resources.power, cloud_resources.price))\n",
    "cloud_resources.costs"
   ]
  },
  {
   "cell_type": "code",
   "execution_count": 9,
   "metadata": {
    "scrolled": false
   },
   "outputs": [],
   "source": [
    "def show_results():\n",
    "    # ------------ printing the result of scheduling:\n",
    "    print()\n",
    "    costs = cloud_resources.price_of_each_graph()\n",
    "    sum_separate = 0\n",
    "    s_e = []\n",
    "    print('+---+----------+--------+--------+--------+---------+--------+--------+------+------+')\n",
    "    print('|job|constraint| value  | ms old | ms new |prev cost|new cost|gap-rate|c-rate|m-rate|')\n",
    "    print('+---+----------+--------+--------+--------+---------+--------+--------+------+------+')\n",
    "    for i in range(len(jobs)):\n",
    "        prev_makespan = makespan_list[i]  # resources_set[i].makespan\n",
    "        if graph_set[i].endID not in cloud_resources.job_task_schedule[graph_set[i].name]:\n",
    "            print(\"|{:3d}|problem!\".format(i))\n",
    "            continue\n",
    "        cloud_makespan = cloud_resources.job_task_schedule[graph_set[i].name][graph_set[i].endID].EFT\n",
    "        prev_cost = cost_list[i]  # resources_set[i].plan_cost\n",
    "        cloud_cost = costs[graph_set[i].name]\n",
    "        m_rate = prev_makespan / cloud_makespan\n",
    "        c_rate = prev_cost / cloud_cost\n",
    "        if constraint[i] is Constraint.deadline:\n",
    "            c = ' Deadline '\n",
    "            m_rate = constraint_values[i] / cloud_makespan\n",
    "            s_e.append(c_rate)\n",
    "        else:\n",
    "            c = '  Budget  '\n",
    "            c_rate = constraint_values[i] / cloud_cost\n",
    "            s_e.append(m_rate)\n",
    "        print('|{:3d}|{}|{:8.3f}|{:8.3f}|{:8.3f}'\n",
    "              '|{:9.0f}|{:8.2f}|{:8.5f}|{:6.4f}|{:6.4f}|'\n",
    "              ''.format(i, c, constraint_values[i], prev_makespan, cloud_makespan,\n",
    "                        prev_cost, cloud_cost, resources_set[i].gap_rate,\n",
    "                        c_rate, m_rate))\n",
    "        deadline = -1\n",
    "        budget = -1\n",
    "        if constraint[i] is Constraint.deadline:\n",
    "            deadline = constraint_values[i]\n",
    "        else:\n",
    "            budget = constraint_values[i]\n",
    "\n",
    "        job_name = names[i]\n",
    "        job_size = len(graph_set[i].tasks) - 2\n",
    "\n",
    "        sum_separate += cost_list[i]  # resources_set[i].plan_cost\n",
    "    print('+---+----------+--------+--------+--------+---------+--------+--------+------+------+')\n",
    "\n",
    "    A = sum(s_e) / workload_len\n",
    "    sigma_u = 0\n",
    "    for se in s_e:\n",
    "        sigma_u += abs(se - A)\n",
    "    U = sigma_u / workload_len\n",
    "    print()\n",
    "    print(\"Overall Cloud Cost:{:6.3f}\".format(cloud_resources.plan_cost))\n",
    "    print(\"Separate Runs Cost:{:6.3f}\".format(sum_separate))\n",
    "    print(\"\\nUnfairness:{:8.5f}\".format(U))\n",
    "\n",
    "    cloud_resources_gap_rate = cloud_resources.gap_rate\n",
    "    print(\"\\nCloud gap-ratio:{:8.5f}\".format(cloud_resources_gap_rate))"
   ]
  },
  {
   "cell_type": "code",
   "execution_count": 90,
   "metadata": {},
   "outputs": [
    {
     "data": {
      "text/plain": [
       "0.982473463342385"
      ]
     },
     "execution_count": 90,
     "metadata": {},
     "output_type": "execute_result"
    }
   ],
   "source": [
    "cloud_resources.plan_cost/sum([costs[k] for k in costs])"
   ]
  },
  {
   "cell_type": "markdown",
   "metadata": {},
   "source": [
    "# show all\n",
    "[home](#home)\n",
    "\n",
    "[show](#show)\n",
    "\n",
    "[barbosa method](#Barbosa)"
   ]
  }
 ],
 "metadata": {
  "kernelspec": {
   "display_name": "Python 3",
   "language": "python",
   "name": "python3"
  },
  "language_info": {
   "codemirror_mode": {
    "name": "ipython",
    "version": 3
   },
   "file_extension": ".py",
   "mimetype": "text/x-python",
   "name": "python",
   "nbconvert_exporter": "python",
   "pygments_lexer": "ipython3",
   "version": "3.6.6"
  }
 },
 "nbformat": 4,
 "nbformat_minor": 2
}
