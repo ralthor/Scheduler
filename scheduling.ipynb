{
 "cells": [
  {
   "cell_type": "code",
   "execution_count": 23,
   "metadata": {},
   "outputs": [
    {
     "name": "stdout",
     "output_type": "stream",
     "text": [
      "total 176\n",
      "drwxr-xr-x 1 amin 197121      0 Dec 26  2018 .\n",
      "drwxr-xr-x 1 amin 197121      0 Apr 25 09:17 ..\n",
      "-rw-r--r-- 1 amin 197121  12520 Oct 26  2015 L.txt\n",
      "-rw-r--r-- 1 amin 197121   6402 Oct 26  2015 M.txt\n",
      "-rw-r--r-- 1 amin 197121   4313 Oct 26  2015 S.txt\n",
      "-rw-r--r-- 1 amin 197121 134048 Oct 26  2015 XXL.txt\n"
     ]
    }
   ],
   "source": [
    "!ls -la workflows"
   ]
  },
  {
   "cell_type": "markdown",
   "metadata": {},
   "source": [
    "# Loading the workflows and creating the resources"
   ]
  },
  {
   "cell_type": "code",
   "execution_count": 24,
   "metadata": {},
   "outputs": [
    {
     "data": {
      "text/plain": [
       "{'Mine_10': <Definitions.Graph.Graph at 0x5658da0>,\n",
       " 'Mine_35': <Definitions.Graph.Graph at 0x5712908>,\n",
       " 'CyberShake': <Definitions.Graph.Graph at 0x5712898>,\n",
       " 'Epigenomics': <Definitions.Graph.Graph at 0x5712c88>,\n",
       " 'Inspiral': <Definitions.Graph.Graph at 0x57b6400>,\n",
       " 'Montage': <Definitions.Graph.Graph at 0x57b6e48>,\n",
       " 'Sipht': <Definitions.Graph.Graph at 0x57cf278>}"
      ]
     },
     "execution_count": 24,
     "metadata": {},
     "output_type": "execute_result"
    }
   ],
   "source": [
    "from Definitions.WorkflowReader.reader import read_jobs\n",
    "from Definitions.Resources import CostAwareResources\n",
    "BW = 1e50\n",
    "\n",
    "wfs = read_jobs('workflows/S.txt')\n",
    "resources = CostAwareResources([1, 1, 2], [1, 1, 3], [15, 15, 15], BW)\n",
    "wfs"
   ]
  },
  {
   "cell_type": "code",
   "execution_count": 9,
   "metadata": {},
   "outputs": [],
   "source": [
    "import copy\n",
    "\n",
    "wf1 = copy.deepcopy(wfs['Mine_10'])\n",
    "wf1.name = 'g1'\n",
    "wf2 = copy.deepcopy(wfs['Mine_10'])\n",
    "wf2.name = 'g2'"
   ]
  },
  {
   "cell_type": "code",
   "execution_count": 58,
   "metadata": {},
   "outputs": [
    {
     "name": "stdout",
     "output_type": "stream",
     "text": [
      "11 , 1 , 4 , 7 , 12 \n",
      "0 , 2.5 , 10.5 , 17.5 , 25.0 \n",
      "0.0 , 10.5 , 17.5 , 21.5 , 25.0 \n",
      "3 \n",
      "2.5 \n",
      "8.5 \n",
      "10 , 2 , 5 , 8 , 6 , 9 \n",
      "0 , 2.5 , 8.5 , 16.0 , 17.5 , 22.0 \n",
      "2.5 , 8.5 , 16.0 , 17.0 , 22.0 , 25.0 \n"
     ]
    },
    {
     "name": "stderr",
     "output_type": "stream",
     "text": [
      "C:\\Users\\amin\\Anaconda3\\envs\\micasense\\lib\\site-packages\\ipykernel_launcher.py:9: MatplotlibDeprecationWarning: The set_color_cycle function was deprecated in version 1.5. Use `.set_prop_cycle` instead.\n",
      "  if __name__ == '__main__':\n"
     ]
    },
    {
     "data": {
      "image/png": "[encoded data removed]",
      "text/plain": [
       "<Figure size 432x288 with 1 Axes>"
      ]
     },
     "metadata": {
      "needs_background": "light"
     },
     "output_type": "display_data"
    }
   ],
   "source": [
    "from Scheduler.BHEFT import schedule\n",
    "wf = wfs['Mine_10']\n",
    "schedule(wf, resources, 10)\n",
    "show_schedule(wf)"
   ]
  },
  {
   "cell_type": "code",
   "execution_count": 59,
   "metadata": {},
   "outputs": [
    {
     "data": {
      "text/plain": [
       "9"
      ]
     },
     "execution_count": 59,
     "metadata": {},
     "output_type": "execute_result"
    }
   ],
   "source": [
    "resources.plan_cost"
   ]
  },
  {
   "cell_type": "markdown",
   "metadata": {},
   "source": [
    "## BHEFT"
   ]
  },
  {
   "cell_type": "code",
   "execution_count": 13,
   "metadata": {},
   "outputs": [],
   "source": [
    "import math\n",
    "import Scheduler.HEFT\n",
    "import Definitions.Resources\n",
    "\n",
    "g, arrival_time = wf2, 30\n",
    "\n",
    "# resources\n",
    "budget = 100\n",
    "upward_rank_is_calculated = False\n",
    "priority_list=None\n",
    "\n",
    "if not upward_rank_is_calculated:\n",
    "    g.upward_rank(g.startID, resources.average_power, resources.bandwidth)\n",
    "if priority_list is None:\n",
    "    priority_list = Scheduler.HEFT.list_of_task_id_on_upward_rank(g)\n",
    "\n",
    "sum_budget_remaining = 0\n",
    "for i in range(0, resources.len):\n",
    "    sum_budget_remaining += resources.price[i] / (resources.timeslot[i] * resources.power[i])\n",
    "sum_budget_allocated = 0\n",
    "average_price_of_computation = sum_budget_remaining / resources.len\n",
    "\n",
    "sum_weight = math.fsum(map(lambda t: t.weight, g.tasks.values()))\n",
    "sum_budget_remaining = average_price_of_computation * sum_weight\n",
    "for tId in priority_list:\n",
    "    est_best, eft_best, runtime_on_resource_best, place_id_best, resource_id_best, cost_best = \\\n",
    "        -1, -1, -1, -1, -1, -1\n",
    "    sab_k = budget - sum_budget_allocated - sum_budget_remaining\n",
    "    ctb_k = g.tasks[tId].weight * average_price_of_computation\n",
    "    if sab_k >= 0 and sum_budget_remaining != 0:\n",
    "        ctb_k += sab_k + ctb_k * sab_k / sum_budget_remaining\n",
    "    affordable_found = False\n",
    "    for r in range(0, resources.len):\n",
    "        start_time, eft, runtime_on_resource, place_id, cost = resources.calculate_eft_and_cost(\n",
    "            g.tasks[tId], r, arrival_time=arrival_time)\n",
    "        if (not affordable_found and cost <= ctb_k) or (\n",
    "                affordable_found and cost <= ctb_k and eft < eft_best) or (\n",
    "            not affordable_found and sab_k >= 0 and (eft < eft_best or eft_best == -1)) or(\n",
    "            not affordable_found and sab_k < 0 and (cost < cost_best or cost_best == -1)\n",
    "        ):\n",
    "            if cost <= ctb_k:\n",
    "                affordable_found = True\n",
    "            est_best, eft_best, runtime_on_resource_best, place_id_best, resource_id_best, cost_best = \\\n",
    "                start_time, eft, runtime_on_resource, place_id, r, cost\n",
    "            continue\n",
    "\n",
    "    task_schedule = Definitions.Resources.TaskSchedule(g.tasks[tId], est_best, runtime_on_resource_best, eft_best,\n",
    "                                                       resource_id_best)\n",
    "    sum_budget_remaining -= g.tasks[tId].weight * average_price_of_computation\n",
    "    sum_budget_allocated += cost_best\n",
    "    resources.schedule(task_schedule, place_id_best)"
   ]
  },
  {
   "cell_type": "code",
   "execution_count": 17,
   "metadata": {},
   "outputs": [
    {
     "name": "stdout",
     "output_type": "stream",
     "text": [
      "3 , 7 , 12 \n",
      "45.0 , 56.0 , 66.0 \n",
      "51.0 , 60.0 , 66.0 \n",
      "11 , 10 , 2 , 4 , 8 \n",
      "30 , 30.0 , 35.0 , 49.0 , 58.5 \n",
      "30.0 , 35.0 , 47.0 , 56.0 , 60.5 \n",
      "1 , 5 , 6 , 9 \n",
      "45.0 , 51.0 , 58.5 , 63.0 \n",
      "49.0 , 58.5 , 63.0 , 66.0 \n"
     ]
    },
    {
     "name": "stderr",
     "output_type": "stream",
     "text": [
      "C:\\Users\\amin\\Anaconda3\\envs\\micasense\\lib\\site-packages\\ipykernel_launcher.py:9: MatplotlibDeprecationWarning: The set_color_cycle function was deprecated in version 1.5. Use `.set_prop_cycle` instead.\n",
      "  if __name__ == '__main__':\n"
     ]
    },
    {
     "data": {
      "image/png": "[encoded data removed]",
      "text/plain": [
       "<Figure size 432x288 with 1 Axes>"
      ]
     },
     "metadata": {
      "needs_background": "light"
     },
     "output_type": "display_data"
    }
   ],
   "source": [
    "show_schedule(g)"
   ]
  },
  {
   "cell_type": "code",
   "execution_count": 15,
   "metadata": {},
   "outputs": [
    {
     "name": "stdout",
     "output_type": "stream",
     "text": [
      "3 , 7 , 12 \n",
      "45.0 , 56.0 , 66.0 \n",
      "51.0 , 60.0 , 66.0 \n",
      "11 , 10 , 2 , 4 , 8 \n",
      "30 , 30.0 , 35.0 , 49.0 , 58.5 \n",
      "30.0 , 35.0 , 47.0 , 56.0 , 60.5 \n",
      "1 , 5 , 6 , 9 \n",
      "45.0 , 51.0 , 58.5 , 63.0 \n",
      "49.0 , 58.5 , 63.0 , 66.0 \n"
     ]
    },
    {
     "data": {
      "text/plain": [
       "[([3, 7, 12], [45.0, 56.0, 66.0], [51.0, 60.0, 66.0]),\n",
       " ([11, 10, 2, 4, 8],\n",
       "  [30, 30.0, 35.0, 49.0, 58.5],\n",
       "  [30.0, 35.0, 47.0, 56.0, 60.5]),\n",
       " ([1, 5, 6, 9], [45.0, 51.0, 58.5, 63.0], [49.0, 58.5, 63.0, 66.0])]"
      ]
     },
     "execution_count": 15,
     "metadata": {},
     "output_type": "execute_result"
    }
   ],
   "source": [
    "resources.show_schedule('g2')"
   ]
  },
  {
   "cell_type": "code",
   "execution_count": 76,
   "metadata": {},
   "outputs": [],
   "source": [
    "if not upward_rank_is_calculated:\n",
    "    g.upward_rank(g.startID, resources.average_power, resources.bandwidth)\n",
    "if priority_list is None:\n",
    "    priority_list = Scheduler.HEFT.list_of_task_id_on_upward_rank(g)"
   ]
  },
  {
   "cell_type": "code",
   "execution_count": 80,
   "metadata": {},
   "outputs": [
    {
     "name": "stdout",
     "output_type": "stream",
     "text": [
      "25.0\t30.0\t5.0\t-1\t0.0\t0\n",
      "8.5\t13.5\t5.0\t1\t0.0\t1\n",
      "25.0\t27.5\t2.5\t-1\t0.0\t2\n"
     ]
    }
   ],
   "source": [
    "# for tid in priority_list:\n",
    "tid = 10\n",
    "for r in range(0, resources.len):\n",
    "        start_time, eft, runtime_on_resource, place_id, cost = resources.calculate_eft_and_cost(\n",
    "            g.tasks[tid], r)\n",
    "        print(start_time, eft, runtime_on_resource, place_id, cost, r, sep='\\t')"
   ]
  },
  {
   "cell_type": "code",
   "execution_count": 75,
   "metadata": {},
   "outputs": [
    {
     "data": {
      "text/plain": [
       "{10: 3000.0}"
      ]
     },
     "execution_count": 75,
     "metadata": {},
     "output_type": "execute_result"
    }
   ],
   "source": [
    "wf.tasks[3].predecessor"
   ]
  },
  {
   "cell_type": "code",
   "execution_count": 77,
   "metadata": {},
   "outputs": [
    {
     "data": {
      "text/plain": [
       "[11, 10, 2, 1, 3, 5, 4, 6, 7, 8, 9, 12]"
      ]
     },
     "execution_count": 77,
     "metadata": {},
     "output_type": "execute_result"
    }
   ],
   "source": [
    "priority_list\n"
   ]
  },
  {
   "cell_type": "code",
   "execution_count": 26,
   "metadata": {},
   "outputs": [],
   "source": [
    "bschedule(wf, resources, 100)\n"
   ]
  },
  {
   "cell_type": "code",
   "execution_count": null,
   "metadata": {},
   "outputs": [],
   "source": [
    "\n",
    "\n",
    "\n",
    "\n",
    "\n",
    "\n",
    "\n",
    "\n",
    "\n",
    "\n",
    "\n",
    "\n",
    "\n",
    "\n",
    "\n"
   ]
  },
  {
   "cell_type": "markdown",
   "metadata": {},
   "source": [
    "## Show Schedule method"
   ]
  },
  {
   "cell_type": "code",
   "execution_count": 16,
   "metadata": {},
   "outputs": [],
   "source": [
    "from matplotlib import pyplot as plt\n",
    "import numpy as np\n",
    "\n",
    "def show_schedule(graph):\n",
    "    sched = resources.show_schedule(graph.name)\n",
    "\n",
    "    num_plots = sum([len(item[0]) for item in sched])\n",
    "    colormap = plt.cm.gist_ncar\n",
    "    plt.gca().set_color_cycle([colormap(i) for i in np.linspace(0, 0.9, num_plots)])\n",
    "\n",
    "\n",
    "    for i, entry in enumerate(sched):\n",
    "        name = entry[0]\n",
    "        est = entry[1]\n",
    "        eft = entry[2]\n",
    "        for j in range(len(est)):\n",
    "    #         print(i, est[j], eft[j])\n",
    "            plt.plot([est[j], eft[j]], [i/5, i/5], linewidth=2, label=name[j])\n",
    "            plt.text((est[j] + eft[j]) / 2, i/5 , name[j])\n",
    "    # plt.legend()\n",
    "    plt.show()"
   ]
  },
  {
   "cell_type": "markdown",
   "metadata": {},
   "source": [
    "### calculating resource cost"
   ]
  },
  {
   "cell_type": "code",
   "execution_count": 19,
   "metadata": {},
   "outputs": [],
   "source": [
    "class a (object):\n",
    "    pass\n",
    "def new(est, eft):\n",
    "    x = a()\n",
    "    x.EST = est\n",
    "    x.EFT = eft\n",
    "    return x"
   ]
  },
  {
   "cell_type": "code",
   "execution_count": 20,
   "metadata": {},
   "outputs": [],
   "source": [
    "timeslot = 5\n",
    "tasks_in_resource = []\n",
    "tasks_in_resource.append(new(2, 6))\n",
    "tasks_in_resource.append(new(6, 7))\n",
    "tasks_in_resource.append(new(13, 17))\n",
    "tasks_in_resource.append(new(20, 27))\n",
    "tasks_in_resource.append(new(33, 36))"
   ]
  },
  {
   "cell_type": "code",
   "execution_count": 21,
   "metadata": {},
   "outputs": [
    {
     "name": "stdout",
     "output_type": "stream",
     "text": [
      "[(2, 7), (13, 18), (20, 30), (33, 38)]\n"
     ]
    }
   ],
   "source": [
    "startof = [x.EST for x in tasks_in_resource]\n",
    "endof = [x.EFT for x in tasks_in_resource]\n",
    "\n",
    "timeslot_start = min(startof)\n",
    "last_finish_time = max(endof)\n",
    "current_task_id = 0\n",
    "\n",
    "rent_periods = []\n",
    "\n",
    "while timeslot_start < last_finish_time:\n",
    "    task_len = endof[current_task_id] - timeslot_start\n",
    "    time_slot_finish = endof[current_task_id] + (timeslot - (task_len % timeslot)) % timeslot\n",
    "    current_task_id += 1\n",
    "    if current_task_id >= len(startof):\n",
    "        rent_periods.append((timeslot_start, time_slot_finish))\n",
    "        break\n",
    "    if startof[current_task_id] <= time_slot_finish:\n",
    "        pass\n",
    "    else:\n",
    "        rent_periods.append((timeslot_start, time_slot_finish))\n",
    "        timeslot_start = startof[current_task_id]\n",
    "print(rent_periods)"
   ]
  },
  {
   "cell_type": "code",
   "execution_count": 22,
   "metadata": {},
   "outputs": [
    {
     "data": {
      "text/plain": [
       "5.0"
      ]
     },
     "execution_count": 22,
     "metadata": {},
     "output_type": "execute_result"
    }
   ],
   "source": [
    "cost = 0\n",
    "for rp in rent_periods:\n",
    "    cost += (rp[1] - rp[0]) / timeslot\n",
    "cost"
   ]
  },
  {
   "cell_type": "code",
   "execution_count": 43,
   "metadata": {},
   "outputs": [
    {
     "data": {
      "text/plain": [
       "20"
      ]
     },
     "execution_count": 43,
     "metadata": {},
     "output_type": "execute_result"
    }
   ],
   "source": [
    "start = 10\n",
    "end = 16\n",
    "end + (timeslot - ((end - start) % timeslot)) % timeslot"
   ]
  },
  {
   "cell_type": "markdown",
   "metadata": {},
   "source": [
    "### Calculating upward rank and sorting:"
   ]
  },
  {
   "cell_type": "code",
   "execution_count": 70,
   "metadata": {},
   "outputs": [
    {
     "data": {
      "text/plain": [
       "[(11, 43.666666666666664),\n",
       " (10, 43.666666666666664),\n",
       " (2, 35.33333333333333),\n",
       " (1, 33.0),\n",
       " (3, 29.333333333333332),\n",
       " (4, 23.666666666666668),\n",
       " (5, 22.333333333333332),\n",
       " (6, 17.0),\n",
       " (7, 11.666666666666666),\n",
       " (8, 6.333333333333333),\n",
       " (9, 4.0),\n",
       " (12, 0.0)]"
      ]
     },
     "execution_count": 70,
     "metadata": {},
     "output_type": "execute_result"
    }
   ],
   "source": [
    "m10 = wfs['Mine_10']\n",
    "m10.upward_rank(m10.startID, resources.average_power, resources.bandwidth)\n",
    "tasks = [(m10.tasks[t].id, m10.tasks[t].upward_rank) for t in m10.tasks]\n",
    "tasks.sort(key=lambda x: x[1])\n",
    "tasks[::-1]"
   ]
  }
 ],
 "metadata": {
  "kernelspec": {
   "display_name": "Python 3",
   "language": "python",
   "name": "python3"
  },
  "language_info": {
   "codemirror_mode": {
    "name": "ipython",
    "version": 3
   },
   "file_extension": ".py",
   "mimetype": "text/x-python",
   "name": "python",
   "nbconvert_exporter": "python",
   "pygments_lexer": "ipython3",
   "version": "3.6.6"
  }
 },
 "nbformat": 4,
 "nbformat_minor": 2
}
